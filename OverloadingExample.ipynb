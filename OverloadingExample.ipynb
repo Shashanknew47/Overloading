{
  "nbformat": 4,
  "nbformat_minor": 0,
  "metadata": {
    "colab": {
      "name": "Untitled3.ipynb",
      "provenance": [],
      "collapsed_sections": [],
      "authorship_tag": "ABX9TyPTMz2gc7LWGnEYSrdZ1bxd",
      "include_colab_link": true
    },
    "kernelspec": {
      "name": "python3",
      "display_name": "Python 3"
    }
  },
  "cells": [
    {
      "cell_type": "markdown",
      "metadata": {
        "id": "view-in-github",
        "colab_type": "text"
      },
      "source": [
        "<a href=\"https://colab.research.google.com/github/eisbilen/Overloading/blob/master/OverloadingExample.ipynb\" target=\"_parent\"><img src=\"https://colab.research.google.com/assets/colab-badge.svg\" alt=\"Open In Colab\"/></a>"
      ]
    },
    {
      "cell_type": "code",
      "metadata": {
        "id": "H_oH7zZLQOeR",
        "colab_type": "code",
        "colab": {
          "base_uri": "https://localhost:8080/",
          "height": 119
        },
        "outputId": "bed42712-bd51-4723-930e-b4d53b99a168"
      },
      "source": [
        "# Addition of 2D point coordinates with\n",
        "# + operator overloading\n",
        "class Point2D:\n",
        " def __init__(self, x, y):\n",
        "  self.x = x\n",
        "  self.y = y\n",
        "\n",
        " # adding two points\n",
        " def __add__(self, other):\n",
        "  return self.x + other.x, self.y + other.y\n",
        " def __str__(self):\n",
        "  return self.x, self.y\n",
        "\n",
        "point1 = Point2D (5, 4)\n",
        "point2 = Point2D (6, 1)\n",
        "\n",
        "point3 = point1 + point2\n",
        "print(point3)\n",
        "\n",
        "!pip install multipledispatch\n",
        "\n",
        "import math\n",
        "from multipledispatch import dispatch\n",
        "\n",
        "@dispatch(int,int)\n",
        "def triangle_area(base, height):\n",
        " return (base*height)/2\n",
        "\n",
        "@dispatch(int,int,int)\n",
        "def triangle_area(a_side, b_side, c_side):\n",
        " s = (a_side + b_side + c_side) / 2\n",
        " return math.sqrt(s * (s-a_side) * (s-b_side) * (s-c_side))\n",
        "\n",
        "area1 = triangle_area (10,14)\n",
        "area2 = triangle_area (5,5,5)\n",
        "\n",
        "print(\"Area1: {}\".format(area1))\n",
        "print(\"Area2: {}\".format(area2))\n",
        "\n",
        "class Names:\n",
        "    def __init__(self, name, country):\n",
        "        self.name = list(name)\n",
        "        self.country = country\n",
        "\n",
        "    def __len__(self):\n",
        "        return len(self.name)\n",
        "\n",
        "obj1 = Names(['Amy', 'Harper', 'James'], 'UK')\n",
        "print(len(obj1))\n"
      ],
      "execution_count": 18,
      "outputs": [
        {
          "output_type": "stream",
          "text": [
            "(11, 5)\n",
            "Requirement already satisfied: multipledispatch in /usr/local/lib/python3.6/dist-packages (0.6.0)\n",
            "Requirement already satisfied: six in /usr/local/lib/python3.6/dist-packages (from multipledispatch) (1.15.0)\n",
            "Area1: 70.0\n",
            "Area2: 10.825317547305483\n",
            "3\n"
          ],
          "name": "stdout"
        }
      ]
    }
  ]
}